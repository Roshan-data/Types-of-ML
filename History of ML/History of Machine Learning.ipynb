{
 "cells": [
  {
   "cell_type": "markdown",
   "id": "84325ee9-36ff-43a8-b558-94a31b9ad3c5",
   "metadata": {},
   "source": [
    "History of Machine Learning"
   ]
  },
  {
   "cell_type": "markdown",
   "id": "b3d20c35-162c-431c-a31e-0fd5146d9cb5",
   "metadata": {},
   "source": [
    " Imagine it’s 1936. The world is on the edge of chaos. But in a quiet university in\n",
    " England, a 24-year-old genius named Alan Turing is sitting in his room… thinking.\n",
    "     \n",
    " Not about war. Not about politics.\n",
    "     \n",
    " He’s wondering: “What if I could design a machine… that thinks?”\n",
    "\n",
    " This wasn’t science fiction. This was the beginning of a revolution."
   ]
  },
  {
   "cell_type": "markdown",
   "id": "87329b00-f4c5-41b9-a88e-48eded515e13",
   "metadata": {},
   "source": [
    "The Birth of the Turing Machine\n",
    "\n",
    " Alan Turing doesn’t build a robot. He builds an idea. A hypothetical machine —\n",
    " which we now call the Turing Machine — that could simulate any algorithm you\n",
    " can think of, given enough time and tape.\n",
    "     \n",
    " Think of it like this: if you can explain the rules clearly enough, this “machine” can\n",
    " follow them blindly and produce the answer.\n",
    "\n",
    " It was like inventing the brain… without the neurons."
   ]
  },
  {
   "cell_type": "markdown",
   "id": "f34521bd-3def-4f66-9509-68ae68bf4e5d",
   "metadata": {},
   "source": [
    " Fast Forward to 1950: “Can Machines Think?”\n",
    "\n",
    " In 1950, Turing writes a paper with the boldest question of his time:\n",
    " “Can machines think?”\n",
    "\n",
    " To answer that, he proposes a test — later called the Turing Test — where if a\n",
    " machine can fool a human into thinking it’s also human, we must admit it has\n",
    " some form of intelligence.\n",
    "     \n",
    " This moment is now seen as the starting pistol for Artificial Intelligence.\n",
    "\n",
    " Spoiler alert: Machines didn’t pass that test then.\n",
    " But they’re getting really close now.\n"
   ]
  },
  {
   "cell_type": "markdown",
   "id": "6109784e-fc3a-4963-8477-c211f739ffb4",
   "metadata": {},
   "source": [
    "Enter: The First Learning Machine (1957)\n",
    "\n",
    " Fast forward a few more years.\n",
    "\n",
    " A psychologist named Frank Rosenblatt creates the Perceptron — the first\n",
    " algorithm that could learn from data.\n",
    "\n",
    " It was simple, crude, and limited.\n",
    " But it was a machine that could improve itself.\n",
    " That was enough to make the scientific world think.\n",
    "     \n",
    " Headlines declared:\n",
    "     \n",
    "   Perceptron could walk, talk, and learn like a baby!\n",
    "     \n",
    " Okay… it was oversold. It flopped.\n",
    " But it planted a seed. And seeds grow."
   ]
  },
  {
   "cell_type": "markdown",
   "id": "53100682-9b2a-4e80-a75d-c2ad84136ff9",
   "metadata": {},
   "source": [
    " 1980s: The Quiet Comeback\n",
    "\n",
    " The world moves on. AI becomes a punchline in computer science. Funding dries\n",
    " up.\n",
    "\n",
    " But in dusty labs and stubborn minds, the idea of machine learning refuses to die.\n",
    " In 1986, researchers bring back neural networks — inspired by how our brain works\n",
    " — and this time, the models can finally do something useful. Like recognizing\n",
    " handwriting. Or predicting data trends.\n",
    "     \n",
    " Still early. Still basic.\n",
    " But the machines were learning again.\n"
   ]
  },
  {
   "cell_type": "markdown",
   "id": "899c64e7-63dd-4bef-b952-bf92c05649b5",
   "metadata": {},
   "source": [
    "1997: Game Over, Humans\n",
    "\n",
    " In 1997, IBM’s Deep Blue defeats world chess champion Garry Kasparov.\n",
    " Let that sink in:\n",
    "\n",
    " A computer beat the best human in the world… in chess.\n",
    " And not by brute force alone — but by learning and optimizing strategies.\n",
    "     \n",
    " Suddenly, “Can machines think?” becomes less of a joke and more of a warning.\n",
    "     \n",
    " We’d entered the Machine Learning era."
   ]
  },
  {
   "cell_type": "markdown",
   "id": "e3f678bd-4216-433f-b71e-70bc04bee2d1",
   "metadata": {},
   "source": [
    " But How Do Machines Learn?\n",
    "\n",
    " That’s the million-dollar question, right?\n",
    "\n",
    " Not all machines learn the same way.\n",
    "\n",
    " Some learn like students, from labeled examples — we call this Supervised\n",
    " Learning.\n",
    "\n",
    " Some are explorers, figuring things out without answers — Unsupervised\n",
    " Learning.\n",
    "\n",
    " And some are more like gamers, trial-and-error addicts, learning from wins and\n",
    " losses — Reinforcement Learning\n",
    "\n",
    " That’s what we’ll explore next.\n",
    "\n",
    " But remember: It all started with a question in a quiet room in 1936.\n",
    "\n",
    " A question that hasn’t been fully answered yet.\n",
    "\n",
    " Can machines think?\n"
   ]
  }
 ],
 "metadata": {
  "kernelspec": {
   "display_name": "Python [conda env:base] *",
   "language": "python",
   "name": "conda-base-py"
  },
  "language_info": {
   "codemirror_mode": {
    "name": "ipython",
    "version": 3
   },
   "file_extension": ".py",
   "mimetype": "text/x-python",
   "name": "python",
   "nbconvert_exporter": "python",
   "pygments_lexer": "ipython3",
   "version": "3.12.7"
  }
 },
 "nbformat": 4,
 "nbformat_minor": 5
}
